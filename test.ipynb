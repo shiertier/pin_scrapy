{
 "cells": [
  {
   "cell_type": "code",
   "execution_count": 1,
   "metadata": {},
   "outputs": [],
   "source": [
    "from pin.client import PinterestClient\n",
    "\n",
    "scrapy = PinterestClient()\n"
   ]
  },
  {
   "cell_type": "code",
   "execution_count": null,
   "metadata": {},
   "outputs": [],
   "source": [
    "# 用户画板功能\n",
    "\n",
    "userid = \"9bc902525c93f1c\"\n",
    "# 获取画板原始数据（复杂）\n",
    "account_boards_data = scrapy.account_boards.get_data_origin(userid)\n",
    "# 获取画板数据（精简）\n",
    "account_boards_data = scrapy.account_boards.get_data(userid)\n",
    "# 获取画板ID列表（仅ids）\n",
    "account_boards_ids = scrapy.account_boards.get_ids(userid)"
   ]
  },
  {
   "cell_type": "code",
   "execution_count": null,
   "metadata": {},
   "outputs": [],
   "source": [
    "# 画板相关推荐功能\n",
    "\n",
    "board_id = '1021332090434103830'\n",
    "# 获取相关图片原始数据\n",
    "scrapy.board_related.get_pics_data_origin(board_id)\n",
    "# 获取相关图片数据\n",
    "scrapy.board_related.get_pics_data(board_id)\n",
    "# 获取相关图片URL列表\n",
    "scrapy.board_related.get_pics_urls(board_id)\n"
   ]
  },
  {
   "cell_type": "code",
   "execution_count": null,
   "metadata": {},
   "outputs": [],
   "source": [
    "# 画板功能\n",
    "\n",
    "board_id = '1021332090434103830'\n",
    "# 获取画板图片原始数据\n",
    "scrapy.board.get_pics_data_origin(board_id)\n",
    "# 获取画板图片数据\n",
    "scrapy.board.get_pics_data(board_id)\n",
    "# 获取画板图片URL列表\n",
    "scrapy.board.get_pics_urls(board_id)"
   ]
  },
  {
   "cell_type": "code",
   "execution_count": null,
   "metadata": {},
   "outputs": [],
   "source": [
    "# 图像详细信息\n",
    "\n",
    "pin_id = '1145814330195049890'\n",
    "# 获取图片原始数据\n",
    "scrapy.pic_data.get_origin(pin_id)\n",
    "# 获取图片有效信息\n",
    "scrapy.pic_data.get(pin_id)"
   ]
  },
  {
   "cell_type": "code",
   "execution_count": null,
   "metadata": {},
   "outputs": [],
   "source": [
    "# 图片相关信息\n",
    "\n",
    "pin_id = '68748481160'\n",
    "# 获取相关图片原始数据\n",
    "scrapy.pic_related.get_pics_data_origin(pin_id)\n",
    "# 获取相关图片数据\n",
    "scrapy.pic_related.get_pics_data(pin_id)\n",
    "# 获取相关图片URL列表\n",
    "scrapy.pic_related.get_pics_urls(pin_id)"
   ]
  },
  {
   "cell_type": "code",
   "execution_count": null,
   "metadata": {},
   "outputs": [],
   "source": [
    "# 搜索画板\n",
    "\n",
    "query = 'chikawa'\n",
    "# 获取搜索画板ID列表\n",
    "scrapy.search_boards.get_ids(query)"
   ]
  },
  {
   "cell_type": "code",
   "execution_count": null,
   "metadata": {},
   "outputs": [],
   "source": [
    "# 搜索图像 (bug,暂未测试通过)\n",
    "\n",
    "query = 'chikawa'\n",
    "# 获取搜索图像ID列表\n",
    "scrapy.search_pics.get_pics_data_origin(query)"
   ]
  }
 ],
 "metadata": {
  "kernelspec": {
   "display_name": "Python 3",
   "language": "python",
   "name": "python3"
  },
  "language_info": {
   "codemirror_mode": {
    "name": "ipython",
    "version": 3
   },
   "file_extension": ".py",
   "mimetype": "text/x-python",
   "name": "python",
   "nbconvert_exporter": "python",
   "pygments_lexer": "ipython3",
   "version": "3.10.10"
  }
 },
 "nbformat": 4,
 "nbformat_minor": 2
}
